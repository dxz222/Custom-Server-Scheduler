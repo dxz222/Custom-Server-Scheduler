{
 "cells": [
  {
   "cell_type": "code",
   "execution_count": 1,
   "metadata": {},
   "outputs": [
    {
     "name": "stderr",
     "output_type": "stream",
     "text": [
      "c:\\users\\dxz\\gym\\gym\\envs\\registration.py:578: UserWarning: \u001b[33mWARN: The environment CartPole-v0 is out of date. You should consider upgrading to version v1 with the environment ID `CartPole-v1`.\u001b[0m\n",
      "  logger.warn(\n",
      "c:\\users\\dxz\\gym\\gym\\envs\\classic_control\\cartpole.py:150: UserWarning: \u001b[33mWARN: You are calling 'step()' even though this environment has already returned done = True. You should always call 'reset()' once you receive 'done = True' -- any further steps are undefined behavior.\u001b[0m\n",
      "  logger.warn(\n"
     ]
    }
   ],
   "source": [
    "import gym\n",
    "env = gym.make('CartPole-v0')\n",
    "env.reset()\n",
    "for _ in range(1000):\n",
    "    env.render()\n",
    "    env.step(env.action_space.sample())\n",
    "env.close()"
   ]
  },
  {
   "cell_type": "code",
   "execution_count": 1,
   "metadata": {},
   "outputs": [
    {
     "name": "stderr",
     "output_type": "stream",
     "text": [
      "c:\\users\\dxz\\gym\\gym\\envs\\registration.py:578: UserWarning: \u001b[33mWARN: The environment CartPole-v0 is out of date. You should consider upgrading to version v1 with the environment ID `CartPole-v1`.\u001b[0m\n",
      "  logger.warn(\n"
     ]
    },
    {
     "name": "stdout",
     "output_type": "stream",
     "text": [
      "Number of timesteps Mean Value: 27.0\n",
      "[39. 15. 15. 23. 19. 17. 17. 49. 50. 26.]\n",
      "Number of timesteps Mean Value: 14.5\n",
      "[29. 16. 14. 14.  9. 11. 11. 12. 16. 13.]\n"
     ]
    }
   ],
   "source": [
    "import gym\n",
    "import math\n",
    "import numpy as np\n",
    "\n",
    "env = gym.make('CartPole-v0')\n",
    "\n",
    "num = np.array([])\n",
    "\n",
    "for i_episode in range(20):\n",
    "    observation =env.reset()\n",
    "    for t in range(100):\n",
    "        env.render()\n",
    "        # print(observation)\n",
    "        action = env.action_space.sample()\n",
    "        observation, reward, done ,onfo = env.step(action)\n",
    "        if done:\n",
    "            # print(\"Episode finished after {} timesteps\".format(t+1))\n",
    "            num = np.append(num,t+1)\n",
    "            if (i_episode+1) % 10 == 0:\n",
    "                print(f\"Number of timesteps Mean Value: {num.mean()}\")\n",
    "                print(num)\n",
    "                num = np.array([])\n",
    "            break\n",
    "\n",
    "env.close()\n"
   ]
  },
  {
   "cell_type": "code",
   "execution_count": 8,
   "metadata": {},
   "outputs": [
    {
     "name": "stdout",
     "output_type": "stream",
     "text": [
      "270.0\n"
     ]
    }
   ],
   "source": [
    "a = [39., 15., 15., 23., 19., 17., 17., 49., 50., 26.]\n",
    "\n",
    "num = 0\n",
    "for i in a:\n",
    "    num += i\n",
    "print(num)"
   ]
  }
 ],
 "metadata": {
  "interpreter": {
   "hash": "96eb50e1d44aed467dc8f759cb08c32fbfa9babcf79c554e2d0e5feb04653a10"
  },
  "kernelspec": {
   "display_name": "Python 3.8.10 64-bit ('base': conda)",
   "language": "python",
   "name": "python3"
  },
  "language_info": {
   "codemirror_mode": {
    "name": "ipython",
    "version": 3
   },
   "file_extension": ".py",
   "mimetype": "text/x-python",
   "name": "python",
   "nbconvert_exporter": "python",
   "pygments_lexer": "ipython3",
   "version": "3.8.10"
  },
  "orig_nbformat": 4
 },
 "nbformat": 4,
 "nbformat_minor": 2
}
